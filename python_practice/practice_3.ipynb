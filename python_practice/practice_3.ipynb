{
 "cells": [
  {
   "cell_type": "code",
   "execution_count": null,
   "id": "f156b5bc-68f8-44fb-a446-1b5e9381add6",
   "metadata": {},
   "outputs": [],
   "source": [
    "#random number generation"
   ]
  },
  {
   "cell_type": "code",
   "execution_count": 1,
   "id": "ad9d0a81-2f3c-446e-a963-d90994edad6a",
   "metadata": {},
   "outputs": [
    {
     "name": "stdout",
     "output_type": "stream",
     "text": [
      "6\n"
     ]
    }
   ],
   "source": [
    "import random\n",
    "\n",
    "print(random.randrange(1, 10))"
   ]
  },
  {
   "cell_type": "code",
   "execution_count": 2,
   "id": "63d7d513-bb93-4641-a664-0ea767f962b4",
   "metadata": {},
   "outputs": [
    {
     "name": "stdout",
     "output_type": "stream",
     "text": [
      "6\n"
     ]
    }
   ],
   "source": [
    "print(random.randrange(1, 10))"
   ]
  },
  {
   "cell_type": "code",
   "execution_count": 3,
   "id": "a9814605-5f1d-480b-922e-68ceb558aecb",
   "metadata": {},
   "outputs": [
    {
     "name": "stdout",
     "output_type": "stream",
     "text": [
      "6\n"
     ]
    }
   ],
   "source": [
    "print(random.randrange(1, 10))"
   ]
  },
  {
   "cell_type": "code",
   "execution_count": 4,
   "id": "cf82af6e-8445-403a-a704-fb5a28c7a834",
   "metadata": {},
   "outputs": [
    {
     "name": "stdout",
     "output_type": "stream",
     "text": [
      "6\n"
     ]
    }
   ],
   "source": [
    "print(random.randrange(1, 10))"
   ]
  },
  {
   "cell_type": "code",
   "execution_count": 5,
   "id": "731a7c41-27a0-4260-a1e1-bf5f47e830cd",
   "metadata": {},
   "outputs": [
    {
     "name": "stdout",
     "output_type": "stream",
     "text": [
      "Hello 'Hi 'what what' Hi' Hello \n"
     ]
    }
   ],
   "source": [
    "print(\"Hello 'Hi 'what what' Hi' Hello \")"
   ]
  },
  {
   "cell_type": "code",
   "execution_count": null,
   "id": "9ef14162-6391-4209-ae15-38a4d02dc5d9",
   "metadata": {},
   "outputs": [],
   "source": []
  }
 ],
 "metadata": {
  "kernelspec": {
   "display_name": "Python 3 (ipykernel)",
   "language": "python",
   "name": "python3"
  },
  "language_info": {
   "codemirror_mode": {
    "name": "ipython",
    "version": 3
   },
   "file_extension": ".py",
   "mimetype": "text/x-python",
   "name": "python",
   "nbconvert_exporter": "python",
   "pygments_lexer": "ipython3",
   "version": "3.12.4"
  }
 },
 "nbformat": 4,
 "nbformat_minor": 5
}
