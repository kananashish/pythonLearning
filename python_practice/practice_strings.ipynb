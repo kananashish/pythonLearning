{
 "cells": [
  {
   "cell_type": "code",
   "execution_count": 10,
   "id": "b029599b-9838-4138-a599-1596fc157c7f",
   "metadata": {},
   "outputs": [
    {
     "name": "stdout",
     "output_type": "stream",
     "text": [
      "b\n",
      "a\n",
      "n\n",
      "a\n",
      "n\n",
      "a\n"
     ]
    }
   ],
   "source": [
    "for x in \"banana\":\n",
    "  print(x)"
   ]
  },
  {
   "cell_type": "code",
   "execution_count": 11,
   "id": "fe20ca9c-ec61-4e40-912d-6bb00201ed6b",
   "metadata": {},
   "outputs": [
    {
     "name": "stdout",
     "output_type": "stream",
     "text": [
      "11\n",
      "10\n",
      "11\n"
     ]
    }
   ],
   "source": [
    "string_1 = \"Hello World\"\n",
    "string_2 = \"HelloWorld\"\n",
    "string_3 = \"Hello_World\"\n",
    "print(len(string_1))\n",
    "print(len(string_2))\n",
    "print(len(string_3))"
   ]
  },
  {
   "cell_type": "code",
   "execution_count": 12,
   "id": "9a7a8a89-70a5-4dc3-a637-4d0de55f1144",
   "metadata": {},
   "outputs": [
    {
     "name": "stdout",
     "output_type": "stream",
     "text": [
      "True\n"
     ]
    }
   ],
   "source": [
    "string_4 = \"This is a sample string to check a word within this long string.\"\n",
    "print(\"check\" in string_4)"
   ]
  },
  {
   "cell_type": "code",
   "execution_count": 13,
   "id": "4699e2ce-ffb1-4863-ae2e-4b78f3346150",
   "metadata": {},
   "outputs": [
    {
     "name": "stdout",
     "output_type": "stream",
     "text": [
      "llo\n"
     ]
    }
   ],
   "source": [
    "print(string_2[2:5])"
   ]
  },
  {
   "cell_type": "code",
   "execution_count": 14,
   "id": "2c36af81-fa7b-4656-a485-06cc6233a42e",
   "metadata": {},
   "outputs": [
    {
     "name": "stdout",
     "output_type": "stream",
     "text": [
      "Wor\n",
      "\n"
     ]
    }
   ],
   "source": [
    "print(string_2[-5:-2])\n",
    "print(string_2[-2:-5])"
   ]
  },
  {
   "cell_type": "code",
   "execution_count": null,
   "id": "11246c13-e9ea-4d43-b485-a1600ddf92a6",
   "metadata": {},
   "outputs": [],
   "source": [
    "'''\n",
    "\n",
    "upper() -> it converts the string in uppercase\n",
    "lower() -> it converts the string in lowercase\n",
    "strip() -> it removes the whitespaces between the strings\n",
    "\n",
    "'''"
   ]
  },
  {
   "cell_type": "code",
   "execution_count": 17,
   "id": "6b54dcce-c044-4c13-8134-618663245790",
   "metadata": {},
   "outputs": [
    {
     "name": "stdout",
     "output_type": "stream",
     "text": [
      "Bye_World\n"
     ]
    }
   ],
   "source": [
    "print(string_3.replace(\"Hello\",\"Bye\"))"
   ]
  },
  {
   "cell_type": "code",
   "execution_count": 18,
   "id": "40e49aa6-27ea-461e-a103-925b41503102",
   "metadata": {},
   "outputs": [
    {
     "name": "stdout",
     "output_type": "stream",
     "text": [
      "Hello_World\n"
     ]
    }
   ],
   "source": [
    "print(string_3)"
   ]
  },
  {
   "cell_type": "code",
   "execution_count": 21,
   "id": "883efa79-5a38-4011-9aa0-b3d41a0e86b8",
   "metadata": {},
   "outputs": [
    {
     "name": "stdout",
     "output_type": "stream",
     "text": [
      "Hello World\n"
     ]
    }
   ],
   "source": [
    "string_5 = \"Hello\"\n",
    "string_6 = \"World\"\n",
    "string_7 = string_5 + \" \" + string_6\n",
    "print(string_7)"
   ]
  },
  {
   "cell_type": "code",
   "execution_count": 22,
   "id": "3a565209-8caf-4d69-8cb8-d97a6d0f0a9c",
   "metadata": {},
   "outputs": [
    {
     "name": "stdout",
     "output_type": "stream",
     "text": [
      "Hello\n",
      "World\n"
     ]
    }
   ],
   "source": [
    "string_5 = \"Hello\"\n",
    "string_6 = \"World\"\n",
    "string_7 = string_5 + \"\\n\" + string_6\n",
    "print(string_7)"
   ]
  },
  {
   "cell_type": "code",
   "execution_count": 24,
   "id": "d5a145f2-f3bb-47e4-9350-e1a519ca03fc",
   "metadata": {},
   "outputs": [
    {
     "name": "stdout",
     "output_type": "stream",
     "text": [
      "My name is Ashish, I am 21\n"
     ]
    }
   ],
   "source": [
    "#fstring\n",
    "age = 21\n",
    "txt = f\"My name is Ashish, I am {age}\"\n",
    "print(txt)"
   ]
  },
  {
   "cell_type": "code",
   "execution_count": null,
   "id": "32bc85da-1c97-477b-9fc6-b701ef661527",
   "metadata": {},
   "outputs": [],
   "source": []
  }
 ],
 "metadata": {
  "kernelspec": {
   "display_name": "Python 3 (ipykernel)",
   "language": "python",
   "name": "python3"
  },
  "language_info": {
   "codemirror_mode": {
    "name": "ipython",
    "version": 3
   },
   "file_extension": ".py",
   "mimetype": "text/x-python",
   "name": "python",
   "nbconvert_exporter": "python",
   "pygments_lexer": "ipython3",
   "version": "3.12.4"
  }
 },
 "nbformat": 4,
 "nbformat_minor": 5
}
