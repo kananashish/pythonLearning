{
 "cells": [
  {
   "cell_type": "code",
   "execution_count": 1,
   "id": "454210a7-5098-4de0-a3c7-b3009987c72a",
   "metadata": {},
   "outputs": [
    {
     "name": "stdout",
     "output_type": "stream",
     "text": [
      "Hello World\n"
     ]
    }
   ],
   "source": [
    "print(\"Hello World\")"
   ]
  },
  {
   "cell_type": "code",
   "execution_count": null,
   "id": "5348bd77-b964-429a-ad58-35dfedf510c1",
   "metadata": {},
   "outputs": [],
   "source": [
    "#if we define a variable in a cell and delete it, that variable would still be defined as it is stored in the jupyter kernal."
   ]
  },
  {
   "cell_type": "code",
   "execution_count": null,
   "id": "806f5cd9-9415-46a7-8cad-1b15733c387f",
   "metadata": {},
   "outputs": [],
   "source": [
    "\"\"\"There is one kernal for each jupyter file. If there is another jupyter file, it would have a seperate different kernal which\n",
    "would have no relation with the first kernal\"\"\" "
   ]
  },
  {
   "cell_type": "code",
   "execution_count": null,
   "id": "63fc5cd3-d420-4a38-9513-6b7d0e3c2157",
   "metadata": {},
   "outputs": [],
   "source": [
    "\"\"\"Each Jupyter notebook operates with its own kernel, which is an independent computational engine. \n",
    "This means that the variables, functions, and data you create in one notebook won't cross over to another notebook's kernel. \n",
    "It's like having separate workspaces for each project, ensuring they don’t interfere with each other.\"\"\""
   ]
  },
  {
   "cell_type": "code",
   "execution_count": 8,
   "id": "b9d7aaa1-66a6-4e44-930c-ead5c2610e29",
   "metadata": {},
   "outputs": [
    {
     "name": "stdout",
     "output_type": "stream",
     "text": [
      "a is less than b\n"
     ]
    }
   ],
   "source": [
    "a = 1\n",
    "b = 50\n",
    "\n",
    "if a > b:\n",
    "    print(\"a is greater than b\")\n",
    "elif a == b:\n",
    "    print(\"a is equal to b\")\n",
    "elif a < b:\n",
    "    print(\"a is less than b\")\n",
    "elif a + 10 < b :\n",
    "    print(\"a is less than b by more than 10\")\n",
    "else:\n",
    "    print(\"a is less ttthan b\")"
   ]
  },
  {
   "cell_type": "code",
   "execution_count": 9,
   "id": "e649aae7-d48d-4eba-94e1-820f41d47a13",
   "metadata": {},
   "outputs": [
    {
     "name": "stdout",
     "output_type": "stream",
     "text": [
      "BMI:\n",
      "23.38868655818771\n",
      "Ashish\n",
      "is not overweight\n"
     ]
    }
   ],
   "source": [
    "#Creating a bmi calculator\n",
    "name = \"Ashish\"\n",
    "weight_kg = 70\n",
    "height_m = 1.73\n",
    "bmi = weight_kg / (height_m ** 2)\n",
    "print(\"BMI:\")\n",
    "print(bmi)\n",
    "if bmi < 25:\n",
    "    print(name)\n",
    "    print(\"is not overweight\")\n",
    "else:\n",
    "    print(name)\n",
    "    print(\"is overweight\")"
   ]
  },
  {
   "cell_type": "code",
   "execution_count": null,
   "id": "3aff20ce-2916-4505-b499-96531de14c8c",
   "metadata": {},
   "outputs": [],
   "source": []
  }
 ],
 "metadata": {
  "kernelspec": {
   "display_name": "Python 3 (ipykernel)",
   "language": "python",
   "name": "python3"
  },
  "language_info": {
   "codemirror_mode": {
    "name": "ipython",
    "version": 3
   },
   "file_extension": ".py",
   "mimetype": "text/x-python",
   "name": "python",
   "nbconvert_exporter": "python",
   "pygments_lexer": "ipython3",
   "version": "3.12.4"
  }
 },
 "nbformat": 4,
 "nbformat_minor": 5
}
